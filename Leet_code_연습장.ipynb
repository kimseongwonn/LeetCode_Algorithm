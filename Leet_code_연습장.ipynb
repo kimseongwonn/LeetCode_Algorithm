{
  "nbformat": 4,
  "nbformat_minor": 0,
  "metadata": {
    "colab": {
      "provenance": [],
      "authorship_tag": "ABX9TyPE4Ip2J0j7fXL+P5sL9fzI",
      "include_colab_link": true
    },
    "kernelspec": {
      "name": "python3",
      "display_name": "Python 3"
    },
    "language_info": {
      "name": "python"
    }
  },
  "cells": [
    {
      "cell_type": "markdown",
      "metadata": {
        "id": "view-in-github",
        "colab_type": "text"
      },
      "source": [
        "<a href=\"https://colab.research.google.com/github/kimseongwonn/LeetCode_Algorithm/blob/main/Leet_code_%EC%97%B0%EC%8A%B5%EC%9E%A5.ipynb\" target=\"_parent\"><img src=\"https://colab.research.google.com/assets/colab-badge.svg\" alt=\"Open In Colab\"/></a>"
      ]
    },
    {
      "cell_type": "markdown",
      "source": [
        "# 알고리즘 공부 규칙(easy 단계 버전)\n",
        "- 기간을 정해두고 최대한 혼자서 푼다 (초심자 단계이므로 하루를 기준으로 설정)\n",
        "- 정해진 기간을 다 사용해도 못풀면 풀이를 보면서 새로운 내용을 학습한다\n",
        "    - 정해진 기간 안에 다 못풀었다면 보통 내가 모르는 접근 방식이 있거나, 내가 모르는 스킬이 존재\n",
        "- 정해진 기간안에 다 풀었어도 다른 정답을 보며 좋은 스킬 팁을 공부한다\n",
        "- 실패 인지 성공인지 표기 >> 실력이 느는지 확인용(실패도 끝까지 제대로 실패하자)"
      ],
      "metadata": {
        "id": "e2n9OMj9_MUw"
      }
    },
    {
      "cell_type": "markdown",
      "source": [
        "### 24.07.18\n",
        "- 실패"
      ],
      "metadata": {
        "id": "NhbqW5GweofV"
      }
    },
    {
      "cell_type": "code",
      "source": [
        "# s = 'MCMXCIV'\n",
        "# s = 'III'\n",
        "s = 'LVIII'\n",
        "\n",
        "def romanToInt(s):\n",
        "    map = {'I' : 1,\n",
        "            'V' : 5,\n",
        "            'X' : 10,\n",
        "            'L' : 50,\n",
        "            'C' : 100,\n",
        "            'D' : 500,\n",
        "            'M' : 1000,\n",
        "            }\n",
        "\n",
        "    total = 0\n",
        "    pre_num = 0\n",
        "\n",
        "    for str in s[::-1]:\n",
        "        num = map[str]\n",
        "        if num < pre_num:\n",
        "            total -= num\n",
        "        else :\n",
        "            total += num\n",
        "\n",
        "        pre_num = num\n",
        "\n",
        "\n",
        "    return total\n",
        "\n",
        "romanToInt(s)"
      ],
      "metadata": {
        "id": "QGHfw32NP8yn",
        "colab": {
          "base_uri": "https://localhost:8080/"
        },
        "outputId": "f4c52751-ec8d-498f-ebf2-3568a816ae59"
      },
      "execution_count": null,
      "outputs": [
        {
          "output_type": "execute_result",
          "data": {
            "text/plain": [
              "58"
            ]
          },
          "metadata": {},
          "execution_count": 20
        }
      ]
    },
    {
      "cell_type": "markdown",
      "source": [
        "###24.07.19\n",
        "- 실패"
      ],
      "metadata": {
        "id": "w76_OghxUtRL"
      }
    },
    {
      "cell_type": "markdown",
      "source": [
        "내 답\n",
        "- 문자열 리스트에서 가장 길이가 짧은 단어 찾아서 기준으로 삼고 비교\n",
        "- min(strs, key=len) >> key 설정을 안하면 사전 알파벳순으로 가장 먼저 나오는게 min 값으로 출력되는데 key를 len으로 설정하므로 길이가 가장 짧은 값이 min 값으로 출력되게함\n",
        "- key의 활용법은 더 많다"
      ],
      "metadata": {
        "id": "QzgQQgwEj0qG"
      }
    },
    {
      "cell_type": "code",
      "source": [
        "def longestCommonPrefix(strs):\n",
        "    if len(strs) == 0:\n",
        "        return \"\"\n",
        "\n",
        "    min_str = min(strs, key=len)\n",
        "\n",
        "    for i, char in enumerate(min_str):\n",
        "        for other_str in strs:\n",
        "            if other_str[i] != char:\n",
        "                    return min_str[:i]\n",
        "\n",
        "    return min_str\n"
      ],
      "metadata": {
        "id": "qiOg_TvtBAVq"
      },
      "execution_count": null,
      "outputs": []
    },
    {
      "cell_type": "code",
      "source": [
        "# strs = [\"flower\",\"flow\",\"flight\"]\n",
        "strs = [\"dog\",\"racecar\",\"car\"]\n",
        "\n",
        "longestCommonPrefix(strs)"
      ],
      "metadata": {
        "colab": {
          "base_uri": "https://localhost:8080/",
          "height": 34
        },
        "id": "FcGTRd7NeVH9",
        "outputId": "3aabfd05-6a3a-4ca4-b376-d235999810a7"
      },
      "execution_count": null,
      "outputs": [
        {
          "output_type": "execute_result",
          "data": {
            "text/plain": [
              "''"
            ],
            "application/vnd.google.colaboratory.intrinsic+json": {
              "type": "string"
            }
          },
          "metadata": {},
          "execution_count": 17
        }
      ]
    },
    {
      "cell_type": "markdown",
      "source": [
        "다른 사람 답\n",
        "- sorted를 사용해서 정렬 해준뒤 맨처음과 맨 끝만 비교 >> 정렬되었으니 양 끝만 비교해도 됨(kick!)"
      ],
      "metadata": {
        "id": "vMNPyx-SjkXe"
      }
    },
    {
      "cell_type": "code",
      "source": [
        "def longestCommonPrefix(strs):\n",
        "    sorted_strs = sorted(strs)\n",
        "    first = sorted_strs[0]\n",
        "    last = sorted_strs[-1]\n",
        "    prefix=\"\"\n",
        "\n",
        "    for i in range(len(first)):\n",
        "        if first[i] == last[i]:\n",
        "            prefix += first[i]\n",
        "        else:\n",
        "            break\n",
        "\n",
        "    return prefix"
      ],
      "metadata": {
        "id": "YwW0fy38eXsk"
      },
      "execution_count": null,
      "outputs": []
    },
    {
      "cell_type": "code",
      "source": [
        "strs = [\"flower\",\"flow\",\"flight\"]\n",
        "# strs = [\"dog\",\"racecar\",\"car\"]\n",
        "\n",
        "longestCommonPrefix(strs)"
      ],
      "metadata": {
        "colab": {
          "base_uri": "https://localhost:8080/",
          "height": 34
        },
        "id": "eAAQO9BsjgPG",
        "outputId": "0d371ec7-78dd-4c57-815e-25a0d1c67a3e"
      },
      "execution_count": null,
      "outputs": [
        {
          "output_type": "execute_result",
          "data": {
            "text/plain": [
              "'fl'"
            ],
            "application/vnd.google.colaboratory.intrinsic+json": {
              "type": "string"
            }
          },
          "metadata": {},
          "execution_count": 23
        }
      ]
    },
    {
      "cell_type": "markdown",
      "source": [
        "### 24.07.20\n",
        "- 실패"
      ],
      "metadata": {
        "id": "IGljlkmJfMqc"
      }
    },
    {
      "cell_type": "code",
      "source": [
        "# '(', ')', '{', '}', '[', ']'\n",
        "# 열림 괄호는 같은 종류의 닫힘 괄호로 닫혀야 함\n",
        "# 열림 괄호는 올바른 순서로 닫혀야 함\n",
        "# 모든 닫힘 괄호는 대응하는 같은 종류의 열림 괄호가 있어야 함"
      ],
      "metadata": {
        "id": "AWpbiRiRjhpd"
      },
      "execution_count": null,
      "outputs": []
    },
    {
      "cell_type": "code",
      "source": [
        "s = '(', '{', '}', '[', ']', ')'\n",
        "\n",
        "sorted(s)"
      ],
      "metadata": {
        "colab": {
          "base_uri": "https://localhost:8080/"
        },
        "id": "GMaS4xMIgBRV",
        "outputId": "f07f1b9e-d4af-4a17-d8a9-fb7b3e2b1687"
      },
      "execution_count": null,
      "outputs": [
        {
          "output_type": "execute_result",
          "data": {
            "text/plain": [
              "['(', ')', '[', ']', '{', '}']"
            ]
          },
          "metadata": {},
          "execution_count": 3
        }
      ]
    },
    {
      "cell_type": "code",
      "source": [
        "map_s = {\n",
        "'(' : ')',\n",
        "'[' : ']',\n",
        "'{' : '}',\n",
        "}\n",
        "if ')' in map_s.keys():\n",
        "    print('a')\n",
        "else:\n",
        "    print('b')\n",
        "\n",
        "print(s[2])"
      ],
      "metadata": {
        "colab": {
          "base_uri": "https://localhost:8080/"
        },
        "id": "B2uIVtxlmO5e",
        "outputId": "2257c1d0-2baf-496c-dea7-0f0758d1b6a1"
      },
      "execution_count": null,
      "outputs": [
        {
          "output_type": "stream",
          "name": "stdout",
          "text": [
            "b\n",
            ")\n"
          ]
        }
      ]
    },
    {
      "cell_type": "markdown",
      "source": [
        "최종코드에 가장 가까운 코드"
      ],
      "metadata": {
        "id": "p5IeIMkpqL23"
      }
    },
    {
      "cell_type": "code",
      "source": [
        "def isValid(s):\n",
        "    map_s = {\n",
        "    '(' : ')',\n",
        "    '[' : ']',\n",
        "    '{' : '}',\n",
        "    }\n",
        "\n",
        "    judge = 0\n",
        "\n",
        "    if len(s) % 2 != 0:\n",
        "        return False\n",
        "    else:\n",
        "        for i in range(len(s)):\n",
        "            if (s[i] in map_s.keys()):\n",
        "                if (map_s[s[i]] in s[i+1:]):\n",
        "                    judge = 1\n",
        "                else:\n",
        "                    judge = 0\n",
        "            else:\n",
        "                pass\n",
        "\n",
        "    return bool(judge)"
      ],
      "metadata": {
        "id": "jEAj5M4ipiCv"
      },
      "execution_count": null,
      "outputs": []
    },
    {
      "cell_type": "code",
      "source": [
        "# 아니 이게 왜 트루가 나와야하는데?\n",
        "s = \"{[]}\"\n",
        "isValid(s)"
      ],
      "metadata": {
        "colab": {
          "base_uri": "https://localhost:8080/"
        },
        "id": "DhE14NPPkoQF",
        "outputId": "364a8f19-8a5e-4572-867d-014d7c34b150"
      },
      "execution_count": null,
      "outputs": [
        {
          "output_type": "execute_result",
          "data": {
            "text/plain": [
              "True"
            ]
          },
          "metadata": {},
          "execution_count": 89
        }
      ]
    },
    {
      "cell_type": "code",
      "source": [
        "# 위에걸 고치니 이게 안되네?\n",
        "s = \"([)]\"\n",
        "isValid(s)"
      ],
      "metadata": {
        "id": "6VzSnEYusv7g",
        "outputId": "b051a229-f4ef-40f3-f87f-30bb47805ce6",
        "colab": {
          "base_uri": "https://localhost:8080/"
        }
      },
      "execution_count": null,
      "outputs": [
        {
          "output_type": "execute_result",
          "data": {
            "text/plain": [
              "True"
            ]
          },
          "metadata": {},
          "execution_count": 90
        }
      ]
    },
    {
      "cell_type": "markdown",
      "source": [
        "- 정해진 시간 안에 풀지 못했음\n",
        "- 풀이를 보고 공부한 내용"
      ],
      "metadata": {
        "id": "ZQD7gOOH_GN4"
      }
    },
    {
      "cell_type": "code",
      "source": [
        "def isValid(s):\n",
        "\n",
        "    # 스택 자료 구조를 활용 (후입 선출 : LIFO)\n",
        "    stack = []\n",
        "\n",
        "    # 여는 괄호에 대응하는 닫는 괄호를 정의한 딕셔너리\n",
        "    # 대응하는 괄호 쌍을 쉽게 확인하게 해준다\n",
        "    map_s = {\n",
        "        '(': ')',\n",
        "        '[': ']',\n",
        "        '{': '}',\n",
        "    }\n",
        "\n",
        "    # 문자열 's' 에서 문자를 하나씩 추출해서 반복문 순회\n",
        "    for char in s:\n",
        "\n",
        "        # case1 : 문자가 map_s의 키 값에 존재할 때 (= 여는 괄호인 경우)\n",
        "        if char in map_s:\n",
        "            # 스택 리스트에 추가한다\n",
        "            stack.append(char)\n",
        "\n",
        "        # case2 : 문자가 map_s의 키 값에 존재하지 않을 때(= 닫는 괄호인 경우)\n",
        "        else:\n",
        "            # not stack : 스택이 비어있거나\n",
        "            # or : 두가지 조건 중 하나라도 거짓이면 거짓\n",
        "            #  map_s[stack.pop()] != char : 스택에 가장 최근에 추가된 여는 괄호를 꺼내서 현재의 닫는 괄호와 짝이 맞는지 map_s 를 통해서 확인한 뒤 짝이 맞지 않으면\n",
        "            if not stack or map_s[stack.pop()] != char:\n",
        "                # False를 return 한다\n",
        "                return False\n",
        "\n",
        "    # 문자열 's'의 모든 문자열을 순회한 뒤 스택이 비어있는지 확인\n",
        "    # 스택이 비어있으면 여는 괄호가 올바르게 짝을 이룬 것이므로 'True'\n",
        "    # 스택이 여전히 요소가 남아 있으면 짝을 이루지 않는 여는 괄호가 있다는 의미이므로 'False'\n",
        "    return not stack\n",
        "\n",
        "\"\"\"\n",
        "위의 코드에서 False가 나올 경우의 수는 다음과 같다\n",
        "1. 문자열 s에서 추출한 문자 char가 닫는 괄호일 때, 스택이 비어있는 경우 >> 문자열 s에서 문자 char가 추출될 때까지 여는 괄호가 등장하지 않았다는 의미\n",
        "2. 문자열 s에서 추출한 문자 char가 닫는 괄호일 때, 스택에 가장 최근에 추가된 여는 괄호를 키로 가지는 밸류 값이 char와 일치하지 않는 경우 >> 문자열 s에서 문자 char가 추출될 때가지 여는 괄호가 등장하였으나 짝이 맞지 않는 경우\n",
        "3. 문자열 s를 다 반복문 순회하였음에도 stack이 비어 있지 않는 경우 >> 올바르게 짝지어지지 않은 여는 괄호가 문자열 s에 존재한다는 의미(pop으로 하나씩 추출해서 비교 했음에도 남아 있다는 것)\n",
        "\"\"\"\n",
        "\n",
        "\n",
        "# 테스트 케이스\n",
        "print(isValid(\"()\"))        # 출력: True\n",
        "print(isValid(\"()[]{}\"))    # 출력: True\n",
        "print(isValid(\"(]\"))        # 출력: False\n",
        "print(isValid(\"([)]\"))      # 출력: False\n",
        "print(isValid(\"{[]}\"))      # 출력: True"
      ],
      "metadata": {
        "id": "dsN9gO5cmnS2",
        "colab": {
          "base_uri": "https://localhost:8080/"
        },
        "outputId": "1fd306ba-b965-40da-fada-31a17105de72"
      },
      "execution_count": 2,
      "outputs": [
        {
          "output_type": "stream",
          "name": "stdout",
          "text": [
            "True\n",
            "True\n",
            "False\n",
            "False\n",
            "True\n"
          ]
        }
      ]
    },
    {
      "cell_type": "code",
      "source": [],
      "metadata": {
        "id": "tCM2Ywd39sYI"
      },
      "execution_count": null,
      "outputs": []
    }
  ]
}