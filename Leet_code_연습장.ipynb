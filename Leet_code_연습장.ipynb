{
  "nbformat": 4,
  "nbformat_minor": 0,
  "metadata": {
    "colab": {
      "provenance": [],
      "authorship_tag": "ABX9TyO5iiux5I1xJJppiZXBQXSJ",
      "include_colab_link": true
    },
    "kernelspec": {
      "name": "python3",
      "display_name": "Python 3"
    },
    "language_info": {
      "name": "python"
    }
  },
  "cells": [
    {
      "cell_type": "markdown",
      "metadata": {
        "id": "view-in-github",
        "colab_type": "text"
      },
      "source": [
        "<a href=\"https://colab.research.google.com/github/kimseongwonn/LeetCode_Algorithm/blob/main/Leet_code_%EC%97%B0%EC%8A%B5%EC%9E%A5.ipynb\" target=\"_parent\"><img src=\"https://colab.research.google.com/assets/colab-badge.svg\" alt=\"Open In Colab\"/></a>"
      ]
    },
    {
      "cell_type": "markdown",
      "source": [
        "### 24.07.18"
      ],
      "metadata": {
        "id": "NhbqW5GweofV"
      }
    },
    {
      "cell_type": "code",
      "source": [
        "# s = 'MCMXCIV'\n",
        "# s = 'III'\n",
        "s = 'LVIII'\n",
        "\n",
        "def romanToInt(s):\n",
        "    map = {'I' : 1,\n",
        "            'V' : 5,\n",
        "            'X' : 10,\n",
        "            'L' : 50,\n",
        "            'C' : 100,\n",
        "            'D' : 500,\n",
        "            'M' : 1000,\n",
        "            }\n",
        "\n",
        "    total = 0\n",
        "    pre_num = 0\n",
        "\n",
        "    for str in s[::-1]:\n",
        "        num = map[str]\n",
        "        if num < pre_num:\n",
        "            total -= num\n",
        "        else :\n",
        "            total += num\n",
        "\n",
        "        pre_num = num\n",
        "\n",
        "\n",
        "    return total\n",
        "\n",
        "romanToInt(s)"
      ],
      "metadata": {
        "id": "QGHfw32NP8yn",
        "colab": {
          "base_uri": "https://localhost:8080/"
        },
        "outputId": "f4c52751-ec8d-498f-ebf2-3568a816ae59"
      },
      "execution_count": 20,
      "outputs": [
        {
          "output_type": "execute_result",
          "data": {
            "text/plain": [
              "58"
            ]
          },
          "metadata": {},
          "execution_count": 20
        }
      ]
    },
    {
      "cell_type": "markdown",
      "source": [
        "###24.07.19"
      ],
      "metadata": {
        "id": "w76_OghxUtRL"
      }
    },
    {
      "cell_type": "code",
      "source": [
        "strs = [\"flower\",\"flow\",\"flight\"]\n",
        "# strs = [\"dog\",\"racecar\",\"car\"]"
      ],
      "metadata": {
        "id": "p4q9dDGHUzZT"
      },
      "execution_count": 1,
      "outputs": []
    },
    {
      "cell_type": "code",
      "source": [
        "def longestCommonPrefix(strs):\n",
        "    if len(strs) == 0:\n",
        "        return \"\"\n",
        "\n",
        "    min_str = min(strs, key=len)\n",
        "\n",
        "    for i, char in enumerate(min_str):\n",
        "        for other_str in strs:\n",
        "            if other_str[i] != char:\n",
        "                    return min_str[:i]\n",
        "\n",
        "    return min_str\n"
      ],
      "metadata": {
        "id": "qiOg_TvtBAVq"
      },
      "execution_count": 15,
      "outputs": []
    },
    {
      "cell_type": "code",
      "source": [
        "# strs = [\"flower\",\"flow\",\"flight\"]\n",
        "strs = [\"dog\",\"racecar\",\"car\"]\n",
        "\n",
        "longestCommonPrefix(strs)"
      ],
      "metadata": {
        "colab": {
          "base_uri": "https://localhost:8080/",
          "height": 34
        },
        "id": "FcGTRd7NeVH9",
        "outputId": "3aabfd05-6a3a-4ca4-b376-d235999810a7"
      },
      "execution_count": 17,
      "outputs": [
        {
          "output_type": "execute_result",
          "data": {
            "text/plain": [
              "''"
            ],
            "application/vnd.google.colaboratory.intrinsic+json": {
              "type": "string"
            }
          },
          "metadata": {},
          "execution_count": 17
        }
      ]
    },
    {
      "cell_type": "code",
      "source": [],
      "metadata": {
        "id": "YwW0fy38eXsk"
      },
      "execution_count": null,
      "outputs": []
    }
  ]
}